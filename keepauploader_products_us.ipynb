{
 "cells": [
  {
   "cell_type": "code",
   "execution_count": 1,
   "metadata": {},
   "outputs": [],
   "source": [
    "from pymongo import MongoClient, errors\n",
    "import keepa\n",
    "import json\n",
    "import requests\n",
    "from tqdm import tqdm\n",
    "import pandas as pd"
   ]
  },
  {
   "cell_type": "markdown",
   "metadata": {},
   "source": [
    "Initializations"
   ]
  },
  {
   "cell_type": "code",
   "execution_count": 2,
   "metadata": {},
   "outputs": [],
   "source": [
    "key = '<keepa_key>'\n",
    "api = keepa.Keepa(key)\n",
    "\n",
    "domain = 'US'\n",
    "domain_id = 1\n",
    "\n",
    "client = MongoClient('mongodb://<username>:<password>@<ip_address>/')"
   ]
  },
  {
   "cell_type": "code",
   "execution_count": 3,
   "metadata": {},
   "outputs": [],
   "source": [
    "asin_per_category_to_pull = 1000"
   ]
  },
  {
   "cell_type": "markdown",
   "metadata": {},
   "source": [
    "Create and Initialize DB"
   ]
  },
  {
   "cell_type": "code",
   "execution_count": 4,
   "metadata": {},
   "outputs": [],
   "source": [
    "db = client[f'keepa_db_{domain.lower()}']\n",
    "categories_collection = db['categories']\n",
    "best_sellers_collection = db['best_seller_asins']\n",
    "product_object = db['product_object']\n",
    "seller_object = db['seller_object']\n"
   ]
  },
  {
   "cell_type": "markdown",
   "metadata": {},
   "source": [
    "Functions"
   ]
  },
  {
   "cell_type": "code",
   "execution_count": 5,
   "metadata": {},
   "outputs": [],
   "source": [
    "def get_category_list(domain_id):\n",
    "    base = \"https://api.keepa.com/category?key={k}&domain={d}&category=0&parents=1\"\n",
    "    finder = base.format(k=key, d=domain_id)\n",
    "    request_fail = True\n",
    "    while request_fail:\n",
    "        try:\n",
    "            category_list = list(requests.get(finder).json()['categories'].values())\n",
    "            request_fail = False\n",
    "        except Exception as e:\n",
    "            continue\n",
    "    return category_list\n",
    "\n",
    "def get_best_sellers(domain_id, category):    \n",
    "    base = \"https://api.keepa.com/bestsellers?key={k}&domain={d}&category={cat}&range=180\"\n",
    "    finder = base.format(k=key, d=domain_id, cat=category)\n",
    "    request_fail = True\n",
    "    while request_fail:\n",
    "        try:\n",
    "            best_sellers_list = requests.get(finder).json()['bestSellersList']\n",
    "            request_fail = False\n",
    "        except Exception as e:\n",
    "            continue\n",
    "    return best_sellers_list\n",
    "\n",
    "def get_tokens_left():    \n",
    "    base = \"https://api.keepa.com/token?key={k}\"\n",
    "    finder = base.format(k=key)\n",
    "    request_fail = True\n",
    "    while request_fail:\n",
    "        try:\n",
    "            tokens_left = requests.get(finder).json()\n",
    "            request_fail = False\n",
    "        except Exception as e:\n",
    "            continue\n",
    "    return tokens_left\n"
   ]
  },
  {
   "cell_type": "markdown",
   "metadata": {},
   "source": [
    "Get Category list"
   ]
  },
  {
   "cell_type": "code",
   "execution_count": 6,
   "metadata": {},
   "outputs": [],
   "source": [
    "\n",
    "\n",
    "cat_list = get_category_list(domain_id)\n",
    "for cat_item in cat_list:\n",
    "    cat_item.update( {\"_id\":cat_item['catId']})\n",
    "\n",
    "try:\n",
    "    categories_collection.insert_many(cat_list,ordered=False, bypass_document_validation=True)\n",
    "except errors.BulkWriteError as e:\n",
    "    pass\n",
    "\n",
    "category_list = categories_collection.distinct('_id')\n"
   ]
  },
  {
   "cell_type": "markdown",
   "metadata": {},
   "source": [
    "Get Bestsellers List"
   ]
  },
  {
   "cell_type": "code",
   "execution_count": 7,
   "metadata": {},
   "outputs": [],
   "source": [
    "best_sellers_dict_list = []\n",
    "for category in tqdm(category_list):\n",
    "    best_sellers_dict = {}\n",
    "    best_sellers_dict['category'] = category\n",
    "    best_sellers_dict['_id'] = category\n",
    "    best_sellers_dict['best_sellers'] = get_best_sellers(domain_id, category)\n",
    "    best_sellers_dict_list.append(best_sellers_dict)\n",
    "try:\n",
    "    best_sellers_collection.insert_many(best_sellers_dict_list,ordered=False, bypass_document_validation=True)\n",
    "except errors.BulkWriteError as e:\n",
    "    pass"
   ]
  },
  {
   "cell_type": "markdown",
   "metadata": {},
   "source": [
    "Getting Product Data"
   ]
  },
  {
   "cell_type": "code",
   "execution_count": 8,
   "metadata": {},
   "outputs": [],
   "source": [
    "category_start_num = 27\n",
    "failed_products = 0"
   ]
  },
  {
   "cell_type": "code",
   "execution_count": null,
   "metadata": {},
   "outputs": [],
   "source": [
    "\n",
    "\n",
    "for category in category_list[category_start_num:]:\n",
    "    # tokens_list = []\n",
    "    print(f'Category {category_start_num} - {category}')\n",
    "    asin_list_all = best_sellers_collection.find_one({\"_id\":category})['best_sellers']['asinList']\n",
    "    asins_to_pull = min(asin_per_category_to_pull, len(asin_list_all))\n",
    "    asin_list_to_pull = asin_list_all[0:asins_to_pull]\n",
    "    # asins_in_db = product_object.find({\"rootCategory\": category}).distinct('_id')\n",
    "    asins_in_db = list(product_object.aggregate([{\"$group\": {\"_id\": \"$_id\"}}]))\n",
    "    asins_in_db = [item['_id'] for item in asins_in_db]\n",
    "    asin_list = list(set(asin_list_to_pull).difference(set(asins_in_db)))\n",
    "    \n",
    "    if len(asin_list) == 0:\n",
    "        category_start_num = category_start_num + 1\n",
    "        continue\n",
    "    \n",
    "    if len(asin_list) <= 100:\n",
    "        asin_list_chunks = [asin_list]\n",
    "    else:\n",
    "        asin_list_chunks = [asin_list[i:i + 100] for i in range(0,len(asin_list),100)]\n",
    "        \n",
    "    for asins in tqdm(asin_list_chunks):\n",
    "        # Getting Product Data\n",
    "        request_fail = True\n",
    "        while request_fail:\n",
    "            try:\n",
    "                asin_query_response = api.query(asins,domain=domain,offers=100,wait=True,progress_bar=False)\n",
    "                request_fail = False\n",
    "            except Exception as e:\n",
    "                continue\n",
    "        # tokens_list.append(get_tokens_left())\n",
    "        \n",
    "        [x.pop(\"data\", None) for x in asin_query_response]\n",
    "        for asin_item in asin_query_response:\n",
    "            asin_item.update( {\"_id\":asin_item['asin']})\n",
    "        try:\n",
    "            product_object.insert_many(asin_query_response,ordered=False, bypass_document_validation=True)\n",
    "        except errors.BulkWriteError as e:\n",
    "            pass\n",
    "        except UnicodeEncodeError as e:\n",
    "            for item in asin_query_response:\n",
    "                try:\n",
    "                    product_object.insert_one(item, bypass_document_validation=True)\n",
    "                except Exception as e:\n",
    "                    failed_products = failed_products+1\n",
    "                    continue\n",
    "    # token_df = pd.concat([token_df, pd.DataFrame(tokens_list)])\n",
    "    # token_df.write_csv(token_csv_path, index = False)\n",
    "    category_start_num = category_start_num + 1"
   ]
  }
 ],
 "metadata": {
  "kernelspec": {
   "display_name": "stats",
   "language": "python",
   "name": "python3"
  },
  "language_info": {
   "codemirror_mode": {
    "name": "ipython",
    "version": 3
   },
   "file_extension": ".py",
   "mimetype": "text/x-python",
   "name": "python",
   "nbconvert_exporter": "python",
   "pygments_lexer": "ipython3",
   "version": "3.9.7"
  },
  "orig_nbformat": 4
 },
 "nbformat": 4,
 "nbformat_minor": 2
}
