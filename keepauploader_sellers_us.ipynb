{
 "cells": [
  {
   "cell_type": "code",
   "execution_count": 1,
   "metadata": {},
   "outputs": [],
   "source": [
    "from pymongo import MongoClient, errors\n",
    "import keepa\n",
    "import json\n",
    "import requests\n",
    "from tqdm import tqdm\n",
    "import pandas as pd"
   ]
  },
  {
   "cell_type": "markdown",
   "metadata": {},
   "source": [
    "Initializations"
   ]
  },
  {
   "cell_type": "code",
   "execution_count": 2,
   "metadata": {},
   "outputs": [],
   "source": [
    "key = '<keepa_key>'\n",
    "api = keepa.Keepa(key)\n",
    "\n",
    "domain = 'US'\n",
    "domain_id = 1\n",
    "\n",
    "client = MongoClient('mongodb://<username>:<password>@<ip_address>/')"
   ]
  },
  {
   "cell_type": "markdown",
   "metadata": {},
   "source": [
    "Create and Initialize DB"
   ]
  },
  {
   "cell_type": "code",
   "execution_count": 3,
   "metadata": {},
   "outputs": [],
   "source": [
    "db = client[f'keepa_db_{domain.lower()}']\n",
    "categories_collection = db['categories']\n",
    "best_sellers_collection = db['best_seller_asins']\n",
    "product_object = db['product_object']\n",
    "seller_object = db['seller_object']\n"
   ]
  },
  {
   "cell_type": "markdown",
   "metadata": {},
   "source": [
    "Functions"
   ]
  },
  {
   "cell_type": "code",
   "execution_count": 4,
   "metadata": {},
   "outputs": [],
   "source": [
    "def get_tokens_left():    \n",
    "    base = \"https://api.keepa.com/token?key={k}\"\n",
    "    finder = base.format(k=key)\n",
    "    request_fail = True\n",
    "    while request_fail:\n",
    "        try:\n",
    "            tokens_left = requests.get(finder).json()\n",
    "            request_fail = False\n",
    "        except Exception as e:\n",
    "            continue\n",
    "    return tokens_left\n"
   ]
  },
  {
   "cell_type": "markdown",
   "metadata": {},
   "source": [
    "Getting the Seller data "
   ]
  },
  {
   "cell_type": "code",
   "execution_count": 6,
   "metadata": {},
   "outputs": [],
   "source": [
    "category_start_num_sellers = 0\n",
    "failed_sellers = 0"
   ]
  },
  {
   "cell_type": "code",
   "execution_count": null,
   "metadata": {},
   "outputs": [],
   "source": [
    "seller_list_all = list(product_object.aggregate([{\"$unwind\": \"$offers\"}, {\"$group\":{\"_id\":'$offers.sellerId'}}]))\n",
    "print('got product list')\n",
    "seller_list_all = [x['_id'] for x in seller_list_all]\n",
    "seller_list_all = list(set(seller_list_all))\n",
    "print('getting unploaded seller list')\n",
    "sellers_in_db = list(seller_object.aggregate([{\"$group\": {\"_id\": \"$_id\"}}]))\n",
    "print('finished getting unploaded seller list')\n",
    "sellers_in_db = [item['_id'] for item in sellers_in_db]\n",
    "seller_list = list(set(seller_list_all).difference(set(sellers_in_db)))\n",
    "\n",
    "seller_list = list(set(seller_list).difference(set([''])))\n",
    "\n",
    "print('processing sellers')\n",
    "seller_list = [seller for seller in seller_list if seller is not None]\n",
    "\n",
    "\n",
    "if len(seller_list) <= 100:\n",
    "    seller_list_chunks = [seller_list]\n",
    "else:\n",
    "    seller_list_chunks = [seller_list[i:i + 100] for i in range(0,len(seller_list),100)]\n",
    "\n",
    "\n",
    "for sellers in tqdm(seller_list_chunks):\n",
    "    \n",
    "    # Getting Product Data\n",
    "    request_fail = True\n",
    "    # retry = 0\n",
    "    while request_fail:\n",
    "        try:\n",
    "            seller_query_response = api.seller_query(sellers,domain=domain, wait=True)\n",
    "            request_fail = False\n",
    "        except Exception as e:\n",
    "            # if retry<50:\n",
    "            #     retry = retry + 1\n",
    "            # else:\n",
    "            #     raise\n",
    "            continue\n",
    "    \n",
    "    \n",
    "    seller_query_response = list(seller_query_response.values())\n",
    "    for seller_item in seller_query_response:\n",
    "        seller_item.update( {\"_id\":seller_item['sellerId']})    \n",
    "    try:\n",
    "        seller_object.insert_many(seller_query_response,ordered=False, bypass_document_validation=True)\n",
    "    except errors.BulkWriteError as e:\n",
    "        pass\n",
    "    except UnicodeEncodeError as e:\n",
    "        for item in seller_query_response:\n",
    "            try:\n",
    "                seller_object.insert_one(item, bypass_document_validation=True)\n",
    "            except Exception as e:\n",
    "                failed_sellers = failed_sellers+1\n",
    "                continue\n",
    "            \n",
    "category_start_num_sellers = category_start_num_sellers + 1 "
   ]
  },
  {
   "cell_type": "code",
   "execution_count": null,
   "metadata": {},
   "outputs": [],
   "source": []
  }
 ],
 "metadata": {
  "kernelspec": {
   "display_name": "stats",
   "language": "python",
   "name": "python3"
  },
  "language_info": {
   "codemirror_mode": {
    "name": "ipython",
    "version": 3
   },
   "file_extension": ".py",
   "mimetype": "text/x-python",
   "name": "python",
   "nbconvert_exporter": "python",
   "pygments_lexer": "ipython3",
   "version": "3.9.7"
  },
  "orig_nbformat": 4
 },
 "nbformat": 4,
 "nbformat_minor": 2
}
